{
 "cells": [
  {
   "cell_type": "code",
   "execution_count": 114,
   "metadata": {},
   "outputs": [],
   "source": [
    "board = [\"CCBDE\", \"AAADE\", \"AAABF\", \"CCBBF\"]\n",
    "m = 4\n",
    "n = 5"
   ]
  },
  {
   "cell_type": "code",
   "execution_count": 115,
   "metadata": {},
   "outputs": [],
   "source": [
    "from collections import deque\n",
    "\n",
    "def solution(m, n, board):\n",
    "    board = list(map(list,zip(*board)))\n",
    "    board = list(map(lambda x : list(reversed(x)), board))\n",
    "    resyn = True\n",
    "    answer = 0\n",
    "    while resyn:\n",
    "        res = set()\n",
    "        for i in range(1, n):\n",
    "            for j in range(1, m):\n",
    "                if board[i][j] == board[i-1][j] == board[i][j-1] == board[i-1][j-1] != ' ':\n",
    "                    res.add((i,j))\n",
    "                    res.add((i-1,j))\n",
    "                    res.add((i,j-1))\n",
    "                    res.add((i-1,j-1))\n",
    "        for i, j in res:\n",
    "            board[i][j] = ' '\n",
    "        for i in range(n):\n",
    "            cnt = board[i].count(' ')\n",
    "            for _ in range(cnt):\n",
    "                board[i].remove(' ')\n",
    "                board[i].append(' ')\n",
    "        cnt = len(res)\n",
    "        print(cnt)\n",
    "        answer += cnt\n",
    "        if cnt == 0:\n",
    "            resyn = False\n",
    "    return answer"
   ]
  },
  {
   "cell_type": "code",
   "execution_count": 116,
   "metadata": {},
   "outputs": [
    {
     "name": "stdout",
     "output_type": "stream",
     "text": [
      "6\n",
      "8\n",
      "0\n"
     ]
    },
    {
     "data": {
      "text/plain": [
       "14"
      ]
     },
     "execution_count": 116,
     "metadata": {},
     "output_type": "execute_result"
    }
   ],
   "source": [
    "solution(m, n, board)"
   ]
  },
  {
   "cell_type": "code",
   "execution_count": 112,
   "metadata": {},
   "outputs": [
    {
     "data": {
      "text/plain": [
       "[['C', 'A', 'A', 'C'],\n",
       " ['C', 'A', 'A', 'C'],\n",
       " ['B', 'A', 'A', 'B'],\n",
       " ['B', 'B', 'D', 'D'],\n",
       " ['F', 'F', 'E', 'E']]"
      ]
     },
     "execution_count": 112,
     "metadata": {},
     "output_type": "execute_result"
    }
   ],
   "source": [
    "board = list(map(lambda x : list(reversed(x)), board))\n",
    "board"
   ]
  },
  {
   "cell_type": "code",
   "execution_count": 111,
   "metadata": {},
   "outputs": [
    {
     "data": {
      "text/plain": [
       "[['C', 'A', 'A', 'C'],\n",
       " ['C', 'A', 'A', 'C'],\n",
       " ['B', 'A', 'A', 'B'],\n",
       " ['D', 'D', 'B', 'B'],\n",
       " ['E', 'E', 'F', 'F']]"
      ]
     },
     "execution_count": 111,
     "metadata": {},
     "output_type": "execute_result"
    }
   ],
   "source": [
    "board = list(map(list,zip(*board)))\n",
    "board"
   ]
  },
  {
   "cell_type": "code",
   "execution_count": null,
   "metadata": {},
   "outputs": [],
   "source": []
  }
 ],
 "metadata": {
  "kernelspec": {
   "display_name": "Python 3",
   "language": "python",
   "name": "python3"
  },
  "language_info": {
   "codemirror_mode": {
    "name": "ipython",
    "version": 3
   },
   "file_extension": ".py",
   "mimetype": "text/x-python",
   "name": "python",
   "nbconvert_exporter": "python",
   "pygments_lexer": "ipython3",
   "version": "3.8.3"
  }
 },
 "nbformat": 4,
 "nbformat_minor": 4
}
