{
 "cells": [
  {
   "cell_type": "code",
   "execution_count": 11,
   "metadata": {},
   "outputs": [],
   "source": [
    "from collections import deque\n",
    "\n",
    "def solution(cacheSize, cities):\n",
    "    cache = deque()\n",
    "    answer = 0\n",
    "    for city in cities:\n",
    "        city = city.lower()\n",
    "        if cacheSize == 0:\n",
    "            answer += 5\n",
    "            continue\n",
    "        if city in cache:\n",
    "            answer += 1\n",
    "            if len(cache) == cacheSize:\n",
    "                # 여기서 계속 틀림 원래는 popleft\n",
    "                cache.remove(city)\n",
    "                cache.append(city)\n",
    "            if len(cache) != cacheSize:\n",
    "                cache.remove(city)\n",
    "                cache.append(city)\n",
    "        if city not in cache:\n",
    "            answer += 5\n",
    "            if len(cache) == cacheSize:\n",
    "                cache.popleft()\n",
    "                cache.append(city)\n",
    "            else:\n",
    "                cache.append(city)\n",
    "\n",
    "    \n",
    "    return answer"
   ]
  },
  {
   "cell_type": "code",
   "execution_count": 12,
   "metadata": {},
   "outputs": [
    {
     "data": {
      "text/plain": [
       "16"
      ]
     },
     "execution_count": 12,
     "metadata": {},
     "output_type": "execute_result"
    }
   ],
   "source": [
    "cities = [\"Jeju\", \"Pangyo\", \"NewYork\", \"newyork\"]\n",
    "cacheSize = 2\n",
    "\n",
    "solution(cacheSize, cities)"
   ]
  },
  {
   "cell_type": "code",
   "execution_count": null,
   "metadata": {},
   "outputs": [],
   "source": []
  }
 ],
 "metadata": {
  "kernelspec": {
   "display_name": "Python 3",
   "language": "python",
   "name": "python3"
  },
  "language_info": {
   "codemirror_mode": {
    "name": "ipython",
    "version": 3
   },
   "file_extension": ".py",
   "mimetype": "text/x-python",
   "name": "python",
   "nbconvert_exporter": "python",
   "pygments_lexer": "ipython3",
   "version": "3.8.3"
  }
 },
 "nbformat": 4,
 "nbformat_minor": 4
}
