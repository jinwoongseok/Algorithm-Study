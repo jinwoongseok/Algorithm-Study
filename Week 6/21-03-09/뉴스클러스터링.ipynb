{
 "cells": [
  {
   "cell_type": "code",
   "execution_count": 11,
   "metadata": {},
   "outputs": [],
   "source": [
    "from collections import defaultdict\n",
    "import math\n",
    "\n",
    "def solution(str1, str2):\n",
    "    set1 = defaultdict(int)\n",
    "    set2 = defaultdict(int)\n",
    "    for i in range(len(str1)-1):\n",
    "        if str1[i].isalpha() and str1[i+1].isalpha():\n",
    "            item = (str1[i] + str1[i+1]).lower()\n",
    "            set1[item] += 1\n",
    "    for i in range(len(str2)-1):\n",
    "        if str2[i].isalpha() and str2[i+1].isalpha():\n",
    "            item = (str2[i] + str2[i+1]).lower()\n",
    "            set2[item] += 1\n",
    "    keyset1 = set(set1.keys())\n",
    "    keyset2 = set(set2.keys())\n",
    "    inter = 0\n",
    "    union = 0\n",
    "    interset = keyset1 & keyset2\n",
    "    unionset = keyset1 | keyset2\n",
    "    for item in interset:\n",
    "        inter += min(set1[item],set2[item])\n",
    "    for item in unionset:\n",
    "        union += max(set1[item],set2[item])\n",
    "    if union == 0:\n",
    "        answer = 65536\n",
    "    else:\n",
    "        answer = math.floor(inter / union * 65536)\n",
    "    return answer"
   ]
  },
  {
   "cell_type": "code",
   "execution_count": 12,
   "metadata": {},
   "outputs": [
    {
     "name": "stdout",
     "output_type": "stream",
     "text": [
      "16384\n"
     ]
    }
   ],
   "source": [
    "str1 = 'FRANCE'\n",
    "str2 = 'french'\n",
    "\n",
    "print(solution(str1,str2))"
   ]
  },
  {
   "cell_type": "code",
   "execution_count": 13,
   "metadata": {},
   "outputs": [
    {
     "name": "stdout",
     "output_type": "stream",
     "text": [
      "65536\n"
     ]
    }
   ],
   "source": [
    "str1 = 'handshake'\n",
    "str2 = 'shake hands'\n",
    "\n",
    "print(solution(str1,str2))"
   ]
  },
  {
   "cell_type": "code",
   "execution_count": 14,
   "metadata": {},
   "outputs": [
    {
     "data": {
      "text/plain": [
       "43690.666666666664"
      ]
     },
     "execution_count": 14,
     "metadata": {},
     "output_type": "execute_result"
    }
   ],
   "source": [
    "\n",
    "2/3 * 65536"
   ]
  },
  {
   "cell_type": "code",
   "execution_count": null,
   "metadata": {},
   "outputs": [],
   "source": []
  }
 ],
 "metadata": {
  "kernelspec": {
   "display_name": "Python 3",
   "language": "python",
   "name": "python3"
  },
  "language_info": {
   "codemirror_mode": {
    "name": "ipython",
    "version": 3
   },
   "file_extension": ".py",
   "mimetype": "text/x-python",
   "name": "python",
   "nbconvert_exporter": "python",
   "pygments_lexer": "ipython3",
   "version": "3.8.3"
  }
 },
 "nbformat": 4,
 "nbformat_minor": 4
}
